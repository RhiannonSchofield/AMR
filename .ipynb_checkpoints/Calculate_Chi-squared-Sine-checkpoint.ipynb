{
 "cells": [
  {
   "cell_type": "code",
   "execution_count": 17,
   "metadata": {
    "collapsed": false
   },
   "outputs": [
    {
     "name": "stdout",
     "output_type": "stream",
     "text": [
      "Populating the interactive namespace from numpy and matplotlib\n"
     ]
    }
   ],
   "source": [
    "# Import relevant modules\n",
    "%pylab inline\n",
    "import numpy\n",
    "import scipy.optimize\n",
    "import scipy.stats\n",
    "import matplotlib.ticker as ticker\n",
    "import pandas as pd"
   ]
  },
  {
   "cell_type": "code",
   "execution_count": 18,
   "metadata": {
    "collapsed": true
   },
   "outputs": [],
   "source": [
    "# Input the experimental data with errors - can copy/paste lists from Pendulum_Analysis script. \n",
    "# Ensure that all arrays have the same length.\n",
    "filename1 = \"LN_data.pkl\"\n",
    "filename2 = \"RT_data.pkl\"\n",
    "dataframe1 = pd.read_pickle(filename1)\n",
    "dataframe2 = pd.read_pickle(filename2)\n",
    "\n",
    "R_S = \"Sample Resistance, R_S (Ohmns)\"\n",
    "R_S_E = \"Error in R_S, alpha_R_S (Ohms)\"\n",
    "A = \"Angle, theta (degrees)\"\n",
    "A_E = \"Error in theta, alpha_theta (degrees)\"\n",
    "\n",
    "slice = dataframe1.loc[dataframe1[\"current\"] == 0.00]\n",
    "\n",
    "xval = slice[A]\n",
    "yval = slice[R_S]\n",
    "xerr = slice[A_E]\n",
    "yerr = slice[R_S_E]"
   ]
  },
  {
   "cell_type": "code",
   "execution_count": 23,
   "metadata": {
    "collapsed": true
   },
   "outputs": [],
   "source": [
    "# Define the functional form of the model: vals is a numpy array holding the parameter values\n",
    "def model_funct(x, vals):\n",
    "    return vals[0]*numpy.sin(vals[1]*x + vals[2]) + vals[3]*x\n",
    "\n",
    "#def model_funct2(y, vals):\n",
    "    #return (numpy.arcsin((y-vals[3])/vals[0])-vals[2])/vals[1]"
   ]
  },
  {
   "cell_type": "code",
   "execution_count": 24,
   "metadata": {
    "collapsed": false
   },
   "outputs": [
    {
     "name": "stdout",
     "output_type": "stream",
     "text": [
      "DoF = 23\n"
     ]
    }
   ],
   "source": [
    "# define initial values for fitting parameters and calculate degrees of freedom\n",
    "initial = numpy.array([0.02, 2.0, -3.0, 1.30]) # Initial guess for fit parameters\n",
    "deg_freedom = xval.size - initial.size # Make sure you understand why!\n",
    "print('DoF = {}'.format(deg_freedom))"
   ]
  },
  {
   "cell_type": "code",
   "execution_count": 25,
   "metadata": {
    "collapsed": true
   },
   "outputs": [],
   "source": [
    "# A function that calculates chi-squared for the model function (model_funct, defined above), given a set of parameter \n",
    "# values and data set with errors\n",
    "def chisq(modelparams, x_data, y_data, x_err, y_err):\n",
    "    chisqval=0\n",
    "    for i in range(len(xval)):\n",
    "        chisqval += ((y_data[i] - model_funct(x_data[i], modelparams))/y_err[i])**2 #+ ((x_data[i] - model_funct2(y_data[i], modelparams))/x_err[i])**2) \n",
    "\n",
    "    return chisqval"
   ]
  },
  {
   "cell_type": "code",
   "execution_count": 26,
   "metadata": {
    "collapsed": false
   },
   "outputs": [
    {
     "name": "stdout",
     "output_type": "stream",
     "text": [
      "Desired error not necessarily achieved due to precision loss.\n",
      "best fit a = 0.211894988173 \n",
      "best fit b = 1.74890321003 \n",
      "best fit c = 4.87832448991 \n",
      "best fit d = 0.00423100137256 \n",
      "minimised chi-squared = 1662571567.05\n"
     ]
    }
   ],
   "source": [
    "# Produce a fit using the scipy optimize sub-module: \n",
    "# chisq is the function to be minimised - defined above, in this case giving chi-squared\n",
    "# initial is a numpy array containing the initial 'guessed' values of the parameters - defined above\n",
    "# args are additional arguments to pass to the chisq function after the array of parameters - in this case the data.\n",
    "#\n",
    "# There are many additional options that can be passed to the minimize function; see the scipy documentation - these are \n",
    "# not required for the simple case here, but may be for more complex data. You will learn about how several of them work \n",
    "# during your Computational Physics course.\n",
    "fit = scipy.optimize.minimize(chisq, initial, args=(xval, yval, xerr, yerr))\n",
    "\n",
    "# Termination output message is fit.message - did the minimisation complete successfully?\n",
    "print(fit.message)\n",
    "\n",
    "# Resulting best fit parameter array is output as fit.x\n",
    "a_soln = fit.x[0]\n",
    "b_soln = fit.x[1]\n",
    "c_soln = fit.x[2]\n",
    "d_soln = fit.x[3]\n",
    "\n",
    "print('best fit a = {} '.format(a_soln))\n",
    "print('best fit b = {} '.format(b_soln))\n",
    "print('best fit c = {} '.format(c_soln))\n",
    "print('best fit d = {} '.format(d_soln))\n",
    "\n",
    "# minimized value for chisq function is fit.fun\n",
    "print('minimised chi-squared = {}'.format(fit.fun))\n",
    "\n",
    "# Take a moment at this point to think about significant figures..."
   ]
  },
  {
   "cell_type": "code",
   "execution_count": 27,
   "metadata": {
    "collapsed": false
   },
   "outputs": [
    {
     "name": "stdout",
     "output_type": "stream",
     "text": [
      "chi^2_min = 1662571567.05\n"
     ]
    }
   ],
   "source": [
    "# Calculate the minimized value of chi-squared again as a demonstration; this time using the chisq function directly, \n",
    "# and best fit parameter values. Result should be the same as above...\n",
    "chisq_min = chisq([a_soln, b_soln, c_soln, d_soln], xval, yval, xerr, yerr)\n",
    "print('chi^2_min = {}'.format(chisq_min))"
   ]
  },
  {
   "cell_type": "code",
   "execution_count": 28,
   "metadata": {
    "collapsed": false
   },
   "outputs": [
    {
     "name": "stdout",
     "output_type": "stream",
     "text": [
      "reduced chi^2 = 72285720.3063\n"
     ]
    }
   ],
   "source": [
    "# Calculate the reduced chi-squared value from minimized chi-squared \n",
    "chisq_reduced = chisq_min/deg_freedom\n",
    "print('reduced chi^2 = {}'.format(chisq_reduced))"
   ]
  },
  {
   "cell_type": "code",
   "execution_count": 29,
   "metadata": {
    "collapsed": false
   },
   "outputs": [
    {
     "name": "stdout",
     "output_type": "stream",
     "text": [
      "$P(chi^2_min, DoF)$ = 0.0\n"
     ]
    }
   ],
   "source": [
    "# Calculate the 'P-value', as described in Skills 1 & 2.\n",
    "# 'scipy.stats.chi2.sf' is the Python equivalent of 'chidist' in Excel. \n",
    "P = scipy.stats.chi2.sf(chisq_min, deg_freedom)\n",
    "print('$P(chi^2_min, DoF)$ = {}'.format(P))"
   ]
  },
  {
   "cell_type": "code",
   "execution_count": 30,
   "metadata": {
    "collapsed": false
   },
   "outputs": [
    {
     "ename": "IndexError",
     "evalue": "list index out of range",
     "output_type": "error",
     "traceback": [
      "\u001b[0;31m---------------------------------------------------------------------------\u001b[0m",
      "\u001b[0;31mIndexError\u001b[0m                                Traceback (most recent call last)",
      "\u001b[0;32m<ipython-input-30-759bb5abf89d>\u001b[0m in \u001b[0;36m<module>\u001b[0;34m()\u001b[0m\n\u001b[1;32m      8\u001b[0m \u001b[1;33m\u001b[0m\u001b[0m\n\u001b[1;32m      9\u001b[0m \u001b[1;31m# Generate best fit line using model function and best fit parameters, and add to plot\u001b[0m\u001b[1;33m\u001b[0m\u001b[1;33m\u001b[0m\u001b[0m\n\u001b[0;32m---> 10\u001b[0;31m \u001b[0mfit_line\u001b[0m\u001b[1;33m=\u001b[0m\u001b[0mmodel_funct\u001b[0m\u001b[1;33m(\u001b[0m\u001b[0mxval\u001b[0m\u001b[1;33m,\u001b[0m \u001b[1;33m[\u001b[0m\u001b[0ma_soln\u001b[0m\u001b[1;33m,\u001b[0m \u001b[0mb_soln\u001b[0m\u001b[1;33m]\u001b[0m\u001b[1;33m)\u001b[0m\u001b[1;33m\u001b[0m\u001b[0m\n\u001b[0m\u001b[1;32m     11\u001b[0m \u001b[0mpyplot\u001b[0m\u001b[1;33m.\u001b[0m\u001b[0mplot\u001b[0m\u001b[1;33m(\u001b[0m\u001b[0mxval\u001b[0m\u001b[1;33m,\u001b[0m \u001b[0mfit_line\u001b[0m\u001b[1;33m,\u001b[0m \u001b[1;34m'r'\u001b[0m\u001b[1;33m)\u001b[0m\u001b[1;33m\u001b[0m\u001b[0m\n\u001b[1;32m     12\u001b[0m \u001b[1;33m\u001b[0m\u001b[0m\n",
      "\u001b[0;32m<ipython-input-23-1a3c6819c738>\u001b[0m in \u001b[0;36mmodel_funct\u001b[0;34m(x, vals)\u001b[0m\n\u001b[1;32m      1\u001b[0m \u001b[1;31m# Define the functional form of the model: vals is a numpy array holding the parameter values\u001b[0m\u001b[1;33m\u001b[0m\u001b[1;33m\u001b[0m\u001b[0m\n\u001b[1;32m      2\u001b[0m \u001b[1;32mdef\u001b[0m \u001b[0mmodel_funct\u001b[0m\u001b[1;33m(\u001b[0m\u001b[0mx\u001b[0m\u001b[1;33m,\u001b[0m \u001b[0mvals\u001b[0m\u001b[1;33m)\u001b[0m\u001b[1;33m:\u001b[0m\u001b[1;33m\u001b[0m\u001b[0m\n\u001b[0;32m----> 3\u001b[0;31m     \u001b[1;32mreturn\u001b[0m \u001b[0mvals\u001b[0m\u001b[1;33m[\u001b[0m\u001b[1;36m0\u001b[0m\u001b[1;33m]\u001b[0m\u001b[1;33m*\u001b[0m\u001b[0mnumpy\u001b[0m\u001b[1;33m.\u001b[0m\u001b[0msin\u001b[0m\u001b[1;33m(\u001b[0m\u001b[0mvals\u001b[0m\u001b[1;33m[\u001b[0m\u001b[1;36m1\u001b[0m\u001b[1;33m]\u001b[0m\u001b[1;33m*\u001b[0m\u001b[0mx\u001b[0m \u001b[1;33m+\u001b[0m \u001b[0mvals\u001b[0m\u001b[1;33m[\u001b[0m\u001b[1;36m2\u001b[0m\u001b[1;33m]\u001b[0m\u001b[1;33m)\u001b[0m \u001b[1;33m+\u001b[0m \u001b[0mvals\u001b[0m\u001b[1;33m[\u001b[0m\u001b[1;36m3\u001b[0m\u001b[1;33m]\u001b[0m\u001b[1;33m*\u001b[0m\u001b[0mx\u001b[0m\u001b[1;33m\u001b[0m\u001b[0m\n\u001b[0m\u001b[1;32m      4\u001b[0m \u001b[1;33m\u001b[0m\u001b[0m\n\u001b[1;32m      5\u001b[0m \u001b[1;31m#def model_funct2(y, vals):\u001b[0m\u001b[1;33m\u001b[0m\u001b[1;33m\u001b[0m\u001b[0m\n",
      "\u001b[0;31mIndexError\u001b[0m: list index out of range"
     ]
    },
    {
     "data": {
      "image/png": "[encoded data removed]",
      "text/plain": [
       "<matplotlib.figure.Figure at 0x49f7b38>"
      ]
     },
     "metadata": {},
     "output_type": "display_data"
    }
   ],
   "source": [
    "# Plot the data and best fit - data should have error-bars and no joining lines, fit is shown by a solid line.\n",
    "pyplot.figure()\n",
    "pyplot.errorbar(xval, yval, yerr=yerr, marker='o', linestyle='None')\n",
    "\n",
    "# Axis labels\n",
    "pyplot.xlabel('x (units)')\n",
    "pyplot.ylabel('y (units)')\n",
    "\n",
    "# Generate best fit line using model function and best fit parameters, and add to plot\n",
    "fit_line=model_funct(xval, [a_soln, b_soln])\n",
    "pyplot.plot(xval, fit_line, 'r')\n",
    "\n",
    "# Set suitable axis limits: you will probably need to change these...\n",
    "pyplot.xlim(-1, 61)\n",
    "pyplot.ylim(65, 105)\n",
    "pyplot.show()\n",
    "\n",
    "# What about plotting the (normalised) residuals?"
   ]
  },
  {
   "cell_type": "code",
   "execution_count": null,
   "metadata": {
    "collapsed": false
   },
   "outputs": [],
   "source": [
    "# Generate data for 2D plots of the chi squared landscape. \n",
    "# Note that this is not a very computationally efficient approach, so unsuited to more complex problems.\n",
    "# It will also only work 'correctly' for a 2-parameter fit...\n",
    "\n",
    "# Axis ranges for 2D plot - adjust to suit\n",
    "a_low, a_high = a_soln-1, a_soln+1 \n",
    "b_low, b_high = b_soln-0.05, b_soln+0.05 \n",
    "\n",
    "# Generate grid and data\n",
    "da = (a_high - a_low)/1000.0\n",
    "db = (b_high - b_low)/1000.0\n",
    "a_axis = numpy.arange(a_low, a_high, da)\n",
    "b_axis = numpy.arange(b_low, b_high, db)\n",
    "plot_data = numpy.zeros((len(a_axis), len(b_axis)))\n",
    "for i, bval in enumerate(b_axis):\n",
    "    for j, aval in enumerate(a_axis):\n",
    "        plot_data[i][j] = chisq([aval, bval], xval, yval, yerr)"
   ]
  },
  {
   "cell_type": "code",
   "execution_count": null,
   "metadata": {
    "collapsed": false
   },
   "outputs": [],
   "source": [
    "# As an example, produce a colour plot of chi-squared landscape.\n",
    "\n",
    "pyplot.figure(figsize=(8,12))\n",
    "im = pyplot.imshow(plot_data, extent = (a_low, a_high, b_low, b_high), origin = 'lower', \n",
    "                   cmap=matplotlib.cm.copper, aspect='auto')\n",
    "pyplot.ylim(b_low, b_high)\n",
    "pyplot.xlim(a_low, a_high)\n",
    "\n",
    "# Axis labels\n",
    "pyplot.ylabel('b (units?)')\n",
    "pyplot.xlabel('a (units?)')\n",
    "\n",
    "# Colorbar and label\n",
    "cbar=pyplot.colorbar(im, orientation = 'vertical')\n",
    "cbar.set_label('$\\chi^2$', fontsize=12)\n",
    "\n",
    "# Add in best fit point and dashed lines\n",
    "pyplot.plot(a_soln, b_soln, 'wo')\n",
    "pyplot.plot((a_soln, a_soln), (b_low, b_soln), linestyle='--', color='w')\n",
    "pyplot.plot((a_low, a_soln), (b_soln, b_soln), linestyle='--', color='w')\n",
    "pyplot.show()"
   ]
  },
  {
   "cell_type": "code",
   "execution_count": 15,
   "metadata": {
    "collapsed": false
   },
   "outputs": [
    {
     "ename": "NameError",
     "evalue": "name 'a_axis' is not defined",
     "output_type": "error",
     "traceback": [
      "\u001b[0;31m---------------------------------------------------------------------------\u001b[0m",
      "\u001b[0;31mNameError\u001b[0m                                 Traceback (most recent call last)",
      "\u001b[0;32m<ipython-input-15-ee063d751107>\u001b[0m in \u001b[0;36m<module>\u001b[0;34m()\u001b[0m\n\u001b[1;32m      2\u001b[0m \u001b[1;31m# Don't worry about 'unicode' warnings on the first run through\u001b[0m\u001b[1;33m\u001b[0m\u001b[1;33m\u001b[0m\u001b[0m\n\u001b[1;32m      3\u001b[0m \u001b[1;33m\u001b[0m\u001b[0m\n\u001b[0;32m----> 4\u001b[0;31m \u001b[0mX\u001b[0m\u001b[1;33m,\u001b[0m \u001b[0mY\u001b[0m \u001b[1;33m=\u001b[0m \u001b[0mnumpy\u001b[0m\u001b[1;33m.\u001b[0m\u001b[0mmeshgrid\u001b[0m\u001b[1;33m(\u001b[0m\u001b[0ma_axis\u001b[0m\u001b[1;33m,\u001b[0m \u001b[0mb_axis\u001b[0m\u001b[1;33m,\u001b[0m \u001b[0mindexing\u001b[0m\u001b[1;33m=\u001b[0m\u001b[1;34m'xy'\u001b[0m\u001b[1;33m)\u001b[0m\u001b[1;33m\u001b[0m\u001b[0m\n\u001b[0m\u001b[1;32m      5\u001b[0m \u001b[0mcontour_data\u001b[0m \u001b[1;33m=\u001b[0m \u001b[0mplot_data\u001b[0m \u001b[1;33m-\u001b[0m \u001b[0mchisq_min\u001b[0m\u001b[1;33m\u001b[0m\u001b[0m\n\u001b[1;32m      6\u001b[0m \u001b[1;33m\u001b[0m\u001b[0m\n",
      "\u001b[0;31mNameError\u001b[0m: name 'a_axis' is not defined"
     ]
    }
   ],
   "source": [
    "# A more useful example: Produce a contour plot of 'delta chi-squared' (= chi-squared(a,b) - chi-squared_min)\n",
    "# Don't worry about 'unicode' warnings on the first run through\n",
    "\n",
    "X, Y = numpy.meshgrid(a_axis, b_axis, indexing='xy')\n",
    "contour_data = plot_data - chisq_min\n",
    "\n",
    "# Contour levels to plot - delta chi-squared of 1, 4 & 9 correspond to 1, 2 & 3 standard deviations\n",
    "levels = [1, 4, 9]\n",
    "C_im = pyplot.contour(X, Y, contour_data, levels = levels, colors='b', origin = 'lower')\n",
    "pyplot.clabel(C_im, levels, fontsize=12, inline=1, fmt=r'$\\chi^2 = \\chi^2_{min}+%1.0f$') \n",
    "\n",
    "# Axis labels\n",
    "pyplot.xlabel('a (units?)')\n",
    "pyplot.ylabel('b (units?)')\n",
    "\n",
    "# This allows you to modify the tick markers to assess the errors from the chi-squared contour plots.\n",
    "xtick_spacing = 0.25\n",
    "ytick_spacing = 0.01\n",
    "\n",
    "ax = pyplot.gca()\n",
    "ax.xaxis.set_major_locator(ticker.MultipleLocator(xtick_spacing))\n",
    "ax.yaxis.set_major_locator(ticker.MultipleLocator(ytick_spacing))\n",
    "\n",
    "\n",
    "# Add in best fit point and dashed lines to axes\n",
    "pyplot.plot(a_soln, b_soln, 'ro')\n",
    "pyplot.plot((a_soln, a_soln), (b_low, b_soln), linestyle='--', color='r')\n",
    "pyplot.plot((a_low, a_soln), (b_soln, b_soln), linestyle='--', color='r')\n",
    "pyplot.show()"
   ]
  },
  {
   "cell_type": "code",
   "execution_count": 16,
   "metadata": {
    "collapsed": false
   },
   "outputs": [
    {
     "ename": "NameError",
     "evalue": "name 'C_im' is not defined",
     "output_type": "error",
     "traceback": [
      "\u001b[0;31m---------------------------------------------------------------------------\u001b[0m",
      "\u001b[0;31mNameError\u001b[0m                                 Traceback (most recent call last)",
      "\u001b[0;32m<ipython-input-16-1592ad827e4d>\u001b[0m in \u001b[0;36m<module>\u001b[0;34m()\u001b[0m\n\u001b[1;32m      1\u001b[0m \u001b[1;31m# It is also possible to determine error bars from extrema of chi-squared+1 contour in 2D parameter space.\u001b[0m\u001b[1;33m\u001b[0m\u001b[1;33m\u001b[0m\u001b[0m\n\u001b[1;32m      2\u001b[0m \u001b[1;33m\u001b[0m\u001b[0m\n\u001b[0;32m----> 3\u001b[0;31m \u001b[0mcontours\u001b[0m \u001b[1;33m=\u001b[0m \u001b[0mC_im\u001b[0m\u001b[1;33m.\u001b[0m\u001b[0mcollections\u001b[0m\u001b[1;33m[\u001b[0m\u001b[1;36m0\u001b[0m\u001b[1;33m]\u001b[0m\u001b[1;33m.\u001b[0m\u001b[0mget_paths\u001b[0m\u001b[1;33m(\u001b[0m\u001b[1;33m)\u001b[0m    \u001b[1;31m# Get hold of the contours from the plot\u001b[0m\u001b[1;33m\u001b[0m\u001b[0m\n\u001b[0m\u001b[1;32m      4\u001b[0m \u001b[0monesigma_contour\u001b[0m \u001b[1;33m=\u001b[0m \u001b[0mcontours\u001b[0m\u001b[1;33m[\u001b[0m\u001b[1;36m0\u001b[0m\u001b[1;33m]\u001b[0m\u001b[1;33m.\u001b[0m\u001b[0mvertices\u001b[0m       \u001b[1;31m# Grab the set of points constituting the one confidence interval contour\u001b[0m\u001b[1;33m\u001b[0m\u001b[0m\n\u001b[1;32m      5\u001b[0m \u001b[0mmaxs\u001b[0m \u001b[1;33m=\u001b[0m \u001b[0mnumpy\u001b[0m\u001b[1;33m.\u001b[0m\u001b[0mamax\u001b[0m\u001b[1;33m(\u001b[0m\u001b[0monesigma_contour\u001b[0m\u001b[1;33m,\u001b[0m \u001b[0maxis\u001b[0m\u001b[1;33m=\u001b[0m\u001b[1;36m0\u001b[0m\u001b[1;33m)\u001b[0m   \u001b[1;31m# Get the extrema along the two axes - max and min values\u001b[0m\u001b[1;33m\u001b[0m\u001b[0m\n",
      "\u001b[0;31mNameError\u001b[0m: name 'C_im' is not defined"
     ]
    }
   ],
   "source": [
    "# It is also possible to determine error bars from extrema of chi-squared+1 contour in 2D parameter space. \n",
    "\n",
    "contours = C_im.collections[0].get_paths()    # Get hold of the contours from the plot\n",
    "onesigma_contour = contours[0].vertices       # Grab the set of points constituting the one confidence interval contour\n",
    "maxs = numpy.amax(onesigma_contour, axis=0)   # Get the extrema along the two axes - max and min values\n",
    "mins = numpy.amin(onesigma_contour, axis=0)\n",
    "errs = (maxs-mins)/2                          # Calculate one standard error in the parameters\n",
    "\n",
    "a_err = errs[0]\n",
    "b_err = errs[1]\n",
    "a_err, b_err                                  \n",
    "\n",
    "# Please do take another moment at this point to again think about significant figures..."
   ]
  },
  {
   "cell_type": "code",
   "execution_count": null,
   "metadata": {
    "collapsed": true
   },
   "outputs": [],
   "source": []
  },
  {
   "cell_type": "code",
   "execution_count": null,
   "metadata": {
    "collapsed": true
   },
   "outputs": [],
   "source": []
  },
  {
   "cell_type": "code",
   "execution_count": null,
   "metadata": {
    "collapsed": true
   },
   "outputs": [],
   "source": []
  },
  {
   "cell_type": "code",
   "execution_count": null,
   "metadata": {
    "collapsed": true
   },
   "outputs": [],
   "source": []
  },
  {
   "cell_type": "code",
   "execution_count": null,
   "metadata": {
    "collapsed": true
   },
   "outputs": [],
   "source": []
  },
  {
   "cell_type": "code",
   "execution_count": null,
   "metadata": {
    "collapsed": true
   },
   "outputs": [],
   "source": []
  },
  {
   "cell_type": "code",
   "execution_count": null,
   "metadata": {
    "collapsed": true
   },
   "outputs": [],
   "source": []
  }
 ],
 "metadata": {
  "anaconda-cloud": {},
  "kernelspec": {
   "display_name": "Python [default]",
   "language": "python",
   "name": "python2"
  },
  "language_info": {
   "codemirror_mode": {
    "name": "ipython",
    "version": 2
   },
   "file_extension": ".py",
   "mimetype": "text/x-python",
   "name": "python",
   "nbconvert_exporter": "python",
   "pygments_lexer": "ipython2",
   "version": "2.7.12"
  }
 },
 "nbformat": 4,
 "nbformat_minor": 1
}
